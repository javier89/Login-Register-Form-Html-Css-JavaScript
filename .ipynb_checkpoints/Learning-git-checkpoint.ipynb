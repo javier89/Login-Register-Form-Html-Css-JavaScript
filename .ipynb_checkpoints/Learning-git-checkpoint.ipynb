{
 "cells": [
  {
   "cell_type": "markdown",
   "id": "0db2b6fd",
   "metadata": {},
   "source": [
    "Para inicialiar git ejecutamos la siguiente linea de comando en terminal"
   ]
  },
  {
   "cell_type": "code",
   "execution_count": null,
   "id": "f13ba689",
   "metadata": {},
   "outputs": [],
   "source": [
    "git init ."
   ]
  },
  {
   "cell_type": "markdown",
   "id": "baed8e72",
   "metadata": {},
   "source": [
    "con ls -a podemos ver que muestra un archivo .git"
   ]
  },
  {
   "cell_type": "code",
   "execution_count": null,
   "id": "4e9c2ea7",
   "metadata": {},
   "outputs": [],
   "source": [
    "ls -la"
   ]
  },
  {
   "cell_type": "code",
   "execution_count": null,
   "id": "09ce152f",
   "metadata": {},
   "outputs": [],
   "source": [
    "git add "
   ]
  },
  {
   "cell_type": "code",
   "execution_count": null,
   "id": "fde5f01a",
   "metadata": {},
   "outputs": [],
   "source": [
    "touch index.html"
   ]
  },
  {
   "cell_type": "code",
   "execution_count": null,
   "id": "b68844a7",
   "metadata": {},
   "outputs": [],
   "source": [
    "touch main.css"
   ]
  },
  {
   "cell_type": "code",
   "execution_count": null,
   "id": "bbc6894e",
   "metadata": {},
   "outputs": [],
   "source": [
    "git status"
   ]
  },
  {
   "cell_type": "code",
   "execution_count": null,
   "id": "330c5e4b",
   "metadata": {},
   "outputs": [],
   "source": [
    "git add index.html"
   ]
  },
  {
   "cell_type": "code",
   "execution_count": null,
   "id": "f6bf4815",
   "metadata": {},
   "outputs": [],
   "source": [
    "git status"
   ]
  },
  {
   "cell_type": "code",
   "execution_count": null,
   "id": "5ece219c",
   "metadata": {},
   "outputs": [],
   "source": [
    "git rm --cached index.html"
   ]
  },
  {
   "cell_type": "code",
   "execution_count": null,
   "id": "6638f895",
   "metadata": {},
   "outputs": [],
   "source": [
    "git status"
   ]
  },
  {
   "cell_type": "code",
   "execution_count": null,
   "id": "52b91606",
   "metadata": {},
   "outputs": [],
   "source": [
    "git add ."
   ]
  },
  {
   "cell_type": "code",
   "execution_count": null,
   "id": "61151acc",
   "metadata": {},
   "outputs": [],
   "source": [
    "git status"
   ]
  },
  {
   "cell_type": "code",
   "execution_count": null,
   "id": "cd011aed",
   "metadata": {},
   "outputs": [],
   "source": [
    "git rm -r --cached ."
   ]
  },
  {
   "cell_type": "code",
   "execution_count": null,
   "id": "3d545f7b",
   "metadata": {},
   "outputs": [],
   "source": [
    "git status"
   ]
  },
  {
   "cell_type": "code",
   "execution_count": null,
   "id": "4425bf79",
   "metadata": {},
   "outputs": [],
   "source": [
    "mkdir login-register"
   ]
  },
  {
   "cell_type": "code",
   "execution_count": null,
   "id": "955136d8",
   "metadata": {},
   "outputs": [],
   "source": [
    "cd login-register"
   ]
  },
  {
   "cell_type": "code",
   "execution_count": null,
   "id": "1fdd88a4",
   "metadata": {},
   "outputs": [],
   "source": [
    "ls -la"
   ]
  },
  {
   "cell_type": "code",
   "execution_count": null,
   "id": "0241db24",
   "metadata": {},
   "outputs": [],
   "source": [
    "touch index.html"
   ]
  },
  {
   "cell_type": "code",
   "execution_count": null,
   "id": "ee2fcb02",
   "metadata": {},
   "outputs": [],
   "source": [
    "touch main.css"
   ]
  },
  {
   "cell_type": "code",
   "execution_count": null,
   "id": "e4244383",
   "metadata": {},
   "outputs": [],
   "source": [
    "git add ."
   ]
  },
  {
   "cell_type": "code",
   "execution_count": null,
   "id": "ec556a67",
   "metadata": {},
   "outputs": [],
   "source": [
    "git status"
   ]
  },
  {
   "cell_type": "code",
   "execution_count": null,
   "id": "11b5b966",
   "metadata": {},
   "outputs": [],
   "source": [
    "git add -A"
   ]
  },
  {
   "cell_type": "code",
   "execution_count": null,
   "id": "8d45a7e9",
   "metadata": {},
   "outputs": [],
   "source": [
    "git status"
   ]
  },
  {
   "cell_type": "code",
   "execution_count": null,
   "id": "68b17036",
   "metadata": {},
   "outputs": [],
   "source": [
    "git commit -m \"Proyecto Registro css\""
   ]
  },
  {
   "cell_type": "code",
   "execution_count": null,
   "id": "5133773d",
   "metadata": {},
   "outputs": [],
   "source": [
    "git status"
   ]
  },
  {
   "cell_type": "code",
   "execution_count": null,
   "id": "1d53d6bf",
   "metadata": {},
   "outputs": [],
   "source": [
    "git log"
   ]
  },
  {
   "cell_type": "code",
   "execution_count": null,
   "id": "f07a2e80",
   "metadata": {},
   "outputs": [],
   "source": [
    "git show 2d2"
   ]
  },
  {
   "cell_type": "code",
   "execution_count": null,
   "id": "0399373e",
   "metadata": {},
   "outputs": [],
   "source": [
    "git diff"
   ]
  },
  {
   "cell_type": "code",
   "execution_count": null,
   "id": "98ef5753",
   "metadata": {},
   "outputs": [],
   "source": [
    "git status"
   ]
  },
  {
   "cell_type": "code",
   "execution_count": null,
   "id": "42762d40",
   "metadata": {},
   "outputs": [],
   "source": [
    "git add ."
   ]
  },
  {
   "cell_type": "code",
   "execution_count": null,
   "id": "74b04be0",
   "metadata": {},
   "outputs": [],
   "source": [
    "git commit -m \"Formulario en html\""
   ]
  },
  {
   "cell_type": "code",
   "execution_count": null,
   "id": "e1c74f17",
   "metadata": {},
   "outputs": [],
   "source": [
    "git log"
   ]
  },
  {
   "cell_type": "code",
   "execution_count": null,
   "id": "fe239c12",
   "metadata": {},
   "outputs": [],
   "source": [
    "git show e8f8"
   ]
  },
  {
   "cell_type": "code",
   "execution_count": null,
   "id": "08bfe7dc",
   "metadata": {},
   "outputs": [],
   "source": [
    "git status"
   ]
  },
  {
   "cell_type": "markdown",
   "id": "e4dbde2a",
   "metadata": {},
   "source": [
    "para regresar un scrip a su estado anterior ejecutamos lo siguiente en termina, esto eliminara el codigo creado si no se realiza un commit"
   ]
  },
  {
   "cell_type": "code",
   "execution_count": null,
   "id": "b43f5c1f",
   "metadata": {},
   "outputs": [],
   "source": [
    "git restore index.html"
   ]
  },
  {
   "cell_type": "code",
   "execution_count": null,
   "id": "b7a1cf0e",
   "metadata": {},
   "outputs": [],
   "source": [
    "git diff"
   ]
  },
  {
   "cell_type": "markdown",
   "id": "1233091a",
   "metadata": {},
   "source": [
    "Para poder corregir commit que ya fueron enviados lo realizamos con el siguiente comando git "
   ]
  },
  {
   "cell_type": "code",
   "execution_count": null,
   "id": "71a4805a",
   "metadata": {},
   "outputs": [],
   "source": [
    "git add -A"
   ]
  },
  {
   "cell_type": "code",
   "execution_count": null,
   "id": "54853c4f",
   "metadata": {},
   "outputs": [],
   "source": [
    "git commit -m \"dhsfsdhgfs\""
   ]
  },
  {
   "cell_type": "code",
   "execution_count": null,
   "id": "f0c8b375",
   "metadata": {},
   "outputs": [],
   "source": [
    "git log"
   ]
  },
  {
   "cell_type": "markdown",
   "id": "c35f9d4b",
   "metadata": {},
   "source": [
    "Con el comando --amend, en miendas o corrijes un commit "
   ]
  },
  {
   "cell_type": "code",
   "execution_count": null,
   "id": "4a1c1a2e",
   "metadata": {},
   "outputs": [],
   "source": [
    "git commit --amend -m \"Se realizan cambios en la notebook\""
   ]
  },
  {
   "cell_type": "code",
   "execution_count": null,
   "id": "20d16049",
   "metadata": {},
   "outputs": [],
   "source": [
    "git log"
   ]
  },
  {
   "cell_type": "code",
   "execution_count": null,
   "id": "a461ec4c",
   "metadata": {},
   "outputs": [],
   "source": [
    "git add -A"
   ]
  },
  {
   "cell_type": "code",
   "execution_count": null,
   "id": "ad0560b1",
   "metadata": {},
   "outputs": [],
   "source": [
    "git commit -m \"Creamos un login con css y javascript\""
   ]
  },
  {
   "cell_type": "markdown",
   "id": "67a9de44",
   "metadata": {},
   "source": [
    "git remote add origin https://github.com/javier89/<Nombre del Repositorio>"
   ]
  },
  {
   "cell_type": "markdown",
   "id": "62a0318b",
   "metadata": {},
   "source": [
    "git branch -M master"
   ]
  },
  {
   "cell_type": "markdown",
   "id": "b3c88018",
   "metadata": {},
   "source": [
    "git push -u origin master"
   ]
  },
  {
   "cell_type": "markdown",
   "id": "dee7a1a0",
   "metadata": {},
   "source": [
    "Para crear una rama ejecutemos el siguiente comando"
   ]
  },
  {
   "cell_type": "code",
   "execution_count": 1,
   "id": "b89c830d",
   "metadata": {},
   "outputs": [
    {
     "name": "stdout",
     "output_type": "stream",
     "text": [
      "* \u001b[32mmaster\u001b[m\n",
      "\u001b[?2004h"
     ]
    },
    {
     "ename": "",
     "evalue": "1",
     "output_type": "error",
     "traceback": []
    }
   ],
   "source": [
    "git branch"
   ]
  },
  {
   "cell_type": "code",
   "execution_count": 2,
   "id": "6c3a4564",
   "metadata": {},
   "outputs": [
    {
     "name": "stdout",
     "output_type": "stream",
     "text": [
      "  \u001b[31morigin/master\u001b[m\n",
      "\u001b[?2004h"
     ]
    },
    {
     "ename": "",
     "evalue": "1",
     "output_type": "error",
     "traceback": []
    }
   ],
   "source": [
    "git branch -r"
   ]
  },
  {
   "cell_type": "code",
   "execution_count": 3,
   "id": "86b67847",
   "metadata": {},
   "outputs": [
    {
     "name": "stdout",
     "output_type": "stream",
     "text": [
      "* \u001b[32mmaster\u001b[m\n",
      "  \u001b[31mremotes/origin/master\u001b[m\n",
      "\u001b[?2004h"
     ]
    },
    {
     "ename": "",
     "evalue": "1",
     "output_type": "error",
     "traceback": []
    }
   ],
   "source": [
    "git branch -a"
   ]
  },
  {
   "cell_type": "code",
   "execution_count": 4,
   "id": "8d6c3efb",
   "metadata": {},
   "outputs": [
    {
     "name": "stdout",
     "output_type": "stream",
     "text": [
      "\u001b[?2004l\r",
      "\u001b[?2004h"
     ]
    },
    {
     "ename": "",
     "evalue": "1",
     "output_type": "error",
     "traceback": []
    }
   ],
   "source": [
    "git branch devdelop"
   ]
  },
  {
   "cell_type": "code",
   "execution_count": 5,
   "id": "9efef7d7",
   "metadata": {},
   "outputs": [
    {
     "name": "stdout",
     "output_type": "stream",
     "text": [
      "  devdelop\u001b[m\n",
      "* \u001b[32mmaster\u001b[m\n",
      "  \u001b[31mremotes/origin/master\u001b[m\n",
      "\u001b[?2004h"
     ]
    },
    {
     "ename": "",
     "evalue": "1",
     "output_type": "error",
     "traceback": []
    }
   ],
   "source": [
    "git branch -a"
   ]
  },
  {
   "cell_type": "markdown",
   "id": "ab88af4d",
   "metadata": {},
   "source": [
    "Para cambiar a una rama nueva ejecutamos el siguiente comando"
   ]
  },
  {
   "cell_type": "code",
   "execution_count": 7,
   "id": "0708ce29",
   "metadata": {},
   "outputs": [
    {
     "name": "stdout",
     "output_type": "stream",
     "text": [
      "M\tLearning-git.ipynb\n",
      "Cambiado a rama 'devdelop'\n",
      "\u001b[?2004h"
     ]
    },
    {
     "ename": "",
     "evalue": "1",
     "output_type": "error",
     "traceback": []
    }
   ],
   "source": [
    "git checkout devdelop"
   ]
  },
  {
   "cell_type": "markdown",
   "id": "823b1bbc",
   "metadata": {},
   "source": [
    "Para regresar a la rama master ejecutamos el siguiente comando"
   ]
  },
  {
   "cell_type": "code",
   "execution_count": 9,
   "id": "14024c0f",
   "metadata": {},
   "outputs": [
    {
     "name": "stdout",
     "output_type": "stream",
     "text": [
      "M\tLearning-git.ipynb\n",
      "Cambiado a rama 'devdelop'\n",
      "\u001b[?2004h"
     ]
    },
    {
     "ename": "",
     "evalue": "1",
     "output_type": "error",
     "traceback": []
    }
   ],
   "source": [
    "git checkout -"
   ]
  },
  {
   "cell_type": "markdown",
   "id": "f3b8e9d3",
   "metadata": {},
   "source": [
    "git barnch -b (nombre de la rama) esta linea crea una rama y al mismo tiempo lo cambia a esa rama creada"
   ]
  },
  {
   "cell_type": "markdown",
   "id": "c40c1057",
   "metadata": {},
   "source": [
    "git branch -d (nombre de la rama) esta linea elimina un rama que se encuentra creada "
   ]
  },
  {
   "cell_type": "markdown",
   "id": "875fc491",
   "metadata": {},
   "source": [
    "Para fusionar dos ramas ejecutamos la siguiente line en nuestra terminal"
   ]
  },
  {
   "cell_type": "code",
   "execution_count": 10,
   "id": "31e714f0",
   "metadata": {},
   "outputs": [
    {
     "name": "stdout",
     "output_type": "stream",
     "text": [
      "Ya está actualizado.\n",
      "\u001b[?2004h"
     ]
    },
    {
     "ename": "",
     "evalue": "1",
     "output_type": "error",
     "traceback": []
    }
   ],
   "source": [
    "git merge devdelop"
   ]
  },
  {
   "cell_type": "code",
   "execution_count": 11,
   "id": "c8ae0338",
   "metadata": {},
   "outputs": [
    {
     "name": "stdout",
     "output_type": "stream",
     "text": [
      "Cambiado a nueva rama 'Go'\n",
      "\u001b[?2004h"
     ]
    },
    {
     "ename": "",
     "evalue": "1",
     "output_type": "error",
     "traceback": []
    }
   ],
   "source": [
    "git checkout -b Go"
   ]
  },
  {
   "cell_type": "code",
   "execution_count": 12,
   "id": "e3f31e6d",
   "metadata": {},
   "outputs": [
    {
     "name": "stdout",
     "output_type": "stream",
     "text": [
      "\u001b[?2004l\r",
      "\u001b[?2004h"
     ]
    },
    {
     "ename": "",
     "evalue": "1",
     "output_type": "error",
     "traceback": []
    }
   ],
   "source": [
    "git add values.go"
   ]
  },
  {
   "cell_type": "code",
   "execution_count": 13,
   "id": "02e8a4dd",
   "metadata": {},
   "outputs": [
    {
     "name": "stdout",
     "output_type": "stream",
     "text": [
      "[Go 4b9c3d2] Valores en GoLang\n",
      " 1 file changed, 7 insertions(+)\n",
      " create mode 100644 values.go\n",
      "\u001b[?2004h"
     ]
    },
    {
     "ename": "",
     "evalue": "1",
     "output_type": "error",
     "traceback": []
    }
   ],
   "source": [
    "git commit -m \"Valores en GoLang\""
   ]
  },
  {
   "cell_type": "code",
   "execution_count": 14,
   "id": "4719a6cd",
   "metadata": {},
   "outputs": [
    {
     "name": "stdout",
     "output_type": "stream",
     "text": [
      "\u001b[?2004l\r",
      "Username for 'https://github.com': \r\n",
      "\u001b[?2004h"
     ]
    }
   ],
   "source": [
    "git push -u origin Go"
   ]
  }
 ],
 "metadata": {
  "kernelspec": {
   "display_name": "Bash",
   "language": "bash",
   "name": "bash"
  },
  "language_info": {
   "codemirror_mode": "shell",
   "file_extension": ".sh",
   "mimetype": "text/x-sh",
   "name": "bash"
  }
 },
 "nbformat": 4,
 "nbformat_minor": 5
}
