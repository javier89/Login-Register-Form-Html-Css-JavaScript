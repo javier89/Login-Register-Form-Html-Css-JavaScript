{
 "cells": [
  {
   "cell_type": "markdown",
   "id": "0db2b6fd",
   "metadata": {},
   "source": [
    "Para inicialiar git ejecutamos la siguiente linea de comando en terminal"
   ]
  },
  {
   "cell_type": "code",
   "execution_count": null,
   "id": "f13ba689",
   "metadata": {},
   "outputs": [],
   "source": [
    "git init ."
   ]
  },
  {
   "cell_type": "markdown",
   "id": "baed8e72",
   "metadata": {},
   "source": [
    "con ls -a podemos ver que muestra un archivo .git"
   ]
  },
  {
   "cell_type": "code",
   "execution_count": null,
   "id": "4e9c2ea7",
   "metadata": {},
   "outputs": [],
   "source": [
    "ls -la"
   ]
  },
  {
   "cell_type": "code",
   "execution_count": null,
   "id": "09ce152f",
   "metadata": {},
   "outputs": [],
   "source": [
    "git add "
   ]
  },
  {
   "cell_type": "code",
   "execution_count": null,
   "id": "fde5f01a",
   "metadata": {},
   "outputs": [],
   "source": [
    "touch index.html"
   ]
  },
  {
   "cell_type": "code",
   "execution_count": null,
   "id": "b68844a7",
   "metadata": {},
   "outputs": [],
   "source": [
    "touch main.css"
   ]
  },
  {
   "cell_type": "code",
   "execution_count": null,
   "id": "bbc6894e",
   "metadata": {},
   "outputs": [],
   "source": [
    "git status"
   ]
  },
  {
   "cell_type": "code",
   "execution_count": null,
   "id": "330c5e4b",
   "metadata": {},
   "outputs": [],
   "source": [
    "git add index.html"
   ]
  },
  {
   "cell_type": "code",
   "execution_count": null,
   "id": "f6bf4815",
   "metadata": {},
   "outputs": [],
   "source": [
    "git status"
   ]
  },
  {
   "cell_type": "code",
   "execution_count": null,
   "id": "5ece219c",
   "metadata": {},
   "outputs": [],
   "source": [
    "git rm --cached index.html"
   ]
  },
  {
   "cell_type": "code",
   "execution_count": null,
   "id": "6638f895",
   "metadata": {},
   "outputs": [],
   "source": [
    "git status"
   ]
  },
  {
   "cell_type": "code",
   "execution_count": null,
   "id": "52b91606",
   "metadata": {},
   "outputs": [],
   "source": [
    "git add ."
   ]
  },
  {
   "cell_type": "code",
   "execution_count": null,
   "id": "61151acc",
   "metadata": {},
   "outputs": [],
   "source": [
    "git status"
   ]
  },
  {
   "cell_type": "code",
   "execution_count": null,
   "id": "cd011aed",
   "metadata": {},
   "outputs": [],
   "source": [
    "git rm -r --cached ."
   ]
  },
  {
   "cell_type": "code",
   "execution_count": null,
   "id": "3d545f7b",
   "metadata": {},
   "outputs": [],
   "source": [
    "git status"
   ]
  },
  {
   "cell_type": "code",
   "execution_count": null,
   "id": "4425bf79",
   "metadata": {},
   "outputs": [],
   "source": [
    "mkdir login-register"
   ]
  },
  {
   "cell_type": "code",
   "execution_count": null,
   "id": "955136d8",
   "metadata": {},
   "outputs": [],
   "source": [
    "cd login-register"
   ]
  },
  {
   "cell_type": "code",
   "execution_count": null,
   "id": "1fdd88a4",
   "metadata": {},
   "outputs": [],
   "source": [
    "ls -la"
   ]
  },
  {
   "cell_type": "code",
   "execution_count": null,
   "id": "0241db24",
   "metadata": {},
   "outputs": [],
   "source": [
    "touch index.html"
   ]
  },
  {
   "cell_type": "code",
   "execution_count": null,
   "id": "ee2fcb02",
   "metadata": {},
   "outputs": [],
   "source": [
    "touch main.css"
   ]
  },
  {
   "cell_type": "code",
   "execution_count": null,
   "id": "e4244383",
   "metadata": {},
   "outputs": [],
   "source": [
    "git add ."
   ]
  },
  {
   "cell_type": "code",
   "execution_count": null,
   "id": "ec556a67",
   "metadata": {},
   "outputs": [],
   "source": [
    "git status"
   ]
  },
  {
   "cell_type": "code",
   "execution_count": null,
   "id": "11b5b966",
   "metadata": {},
   "outputs": [],
   "source": [
    "git add -A"
   ]
  },
  {
   "cell_type": "code",
   "execution_count": null,
   "id": "8d45a7e9",
   "metadata": {},
   "outputs": [],
   "source": [
    "git status"
   ]
  },
  {
   "cell_type": "code",
   "execution_count": null,
   "id": "68b17036",
   "metadata": {},
   "outputs": [],
   "source": [
    "git commit -m \"Proyecto Registro css\""
   ]
  },
  {
   "cell_type": "code",
   "execution_count": null,
   "id": "5133773d",
   "metadata": {},
   "outputs": [],
   "source": [
    "git status"
   ]
  },
  {
   "cell_type": "code",
   "execution_count": null,
   "id": "1d53d6bf",
   "metadata": {},
   "outputs": [],
   "source": [
    "git log"
   ]
  },
  {
   "cell_type": "code",
   "execution_count": null,
   "id": "f07a2e80",
   "metadata": {},
   "outputs": [],
   "source": [
    "git show 2d2"
   ]
  },
  {
   "cell_type": "code",
   "execution_count": null,
   "id": "0399373e",
   "metadata": {},
   "outputs": [],
   "source": [
    "git diff"
   ]
  },
  {
   "cell_type": "code",
   "execution_count": null,
   "id": "98ef5753",
   "metadata": {},
   "outputs": [],
   "source": [
    "git status"
   ]
  },
  {
   "cell_type": "code",
   "execution_count": null,
   "id": "42762d40",
   "metadata": {},
   "outputs": [],
   "source": [
    "git add ."
   ]
  },
  {
   "cell_type": "code",
   "execution_count": null,
   "id": "74b04be0",
   "metadata": {},
   "outputs": [],
   "source": [
    "git commit -m \"Formulario en html\""
   ]
  },
  {
   "cell_type": "code",
   "execution_count": null,
   "id": "e1c74f17",
   "metadata": {},
   "outputs": [],
   "source": [
    "git log"
   ]
  },
  {
   "cell_type": "code",
   "execution_count": null,
   "id": "fe239c12",
   "metadata": {},
   "outputs": [],
   "source": [
    "git show e8f8"
   ]
  },
  {
   "cell_type": "code",
   "execution_count": null,
   "id": "08bfe7dc",
   "metadata": {},
   "outputs": [],
   "source": [
    "git status"
   ]
  },
  {
   "cell_type": "markdown",
   "id": "e4dbde2a",
   "metadata": {},
   "source": [
    "para regresar un scrip a su estado anterior ejecutamos lo siguiente en termina, esto eliminara el codigo creado si no se realiza un commit"
   ]
  },
  {
   "cell_type": "code",
   "execution_count": null,
   "id": "b43f5c1f",
   "metadata": {},
   "outputs": [],
   "source": [
    "git restore index.html"
   ]
  },
  {
   "cell_type": "code",
   "execution_count": null,
   "id": "b7a1cf0e",
   "metadata": {},
   "outputs": [],
   "source": [
    "git diff"
   ]
  },
  {
   "cell_type": "markdown",
   "id": "1233091a",
   "metadata": {},
   "source": [
    "Para poder corregir commit que ya fueron enviados lo realizamos con el siguiente comando git "
   ]
  },
  {
   "cell_type": "code",
   "execution_count": null,
   "id": "71a4805a",
   "metadata": {},
   "outputs": [],
   "source": [
    "git add -A"
   ]
  },
  {
   "cell_type": "code",
   "execution_count": null,
   "id": "54853c4f",
   "metadata": {},
   "outputs": [],
   "source": [
    "git commit -m \"dhsfsdhgfs\""
   ]
  },
  {
   "cell_type": "code",
   "execution_count": null,
   "id": "f0c8b375",
   "metadata": {},
   "outputs": [],
   "source": [
    "git log"
   ]
  },
  {
   "cell_type": "markdown",
   "id": "c35f9d4b",
   "metadata": {},
   "source": [
    "Con el comando --amend, en miendas o corrijes un commit "
   ]
  },
  {
   "cell_type": "code",
   "execution_count": null,
   "id": "4a1c1a2e",
   "metadata": {},
   "outputs": [],
   "source": [
    "git commit --amend -m \"Se realizan cambios en la notebook\""
   ]
  },
  {
   "cell_type": "code",
   "execution_count": null,
   "id": "20d16049",
   "metadata": {},
   "outputs": [],
   "source": [
    "git log"
   ]
  },
  {
   "cell_type": "code",
   "execution_count": null,
   "id": "a461ec4c",
   "metadata": {},
   "outputs": [],
   "source": [
    "git add -A"
   ]
  },
  {
   "cell_type": "code",
   "execution_count": null,
   "id": "ad0560b1",
   "metadata": {},
   "outputs": [],
   "source": [
    "git commit -m \"Creamos un login con css y javascript\""
   ]
  },
  {
   "cell_type": "markdown",
   "id": "67a9de44",
   "metadata": {},
   "source": [
    "git remote add origin https://github.com/javier89/<Nombre del Repositorio>"
   ]
  },
  {
   "cell_type": "markdown",
   "id": "62a0318b",
   "metadata": {},
   "source": [
    "git branch -M master"
   ]
  },
  {
   "cell_type": "markdown",
   "id": "b3c88018",
   "metadata": {},
   "source": [
    "git push -u origin master"
   ]
  }
 ],
 "metadata": {
  "kernelspec": {
   "display_name": "Bash",
   "language": "bash",
   "name": "bash"
  },
  "language_info": {
   "codemirror_mode": "shell",
   "file_extension": ".sh",
   "mimetype": "text/x-sh",
   "name": "bash"
  }
 },
 "nbformat": 4,
 "nbformat_minor": 5
}
