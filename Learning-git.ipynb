{
 "cells": [
  {
   "cell_type": "markdown",
   "id": "6a6ca38c",
   "metadata": {},
   "source": [
    "Para inicialiar git ejecutamos la siguiente linea de comando en terminal"
   ]
  },
  {
   "cell_type": "code",
   "execution_count": 3,
   "id": "d2187ffc",
   "metadata": {},
   "outputs": [
    {
     "name": "stdout",
     "output_type": "stream",
     "text": [
      "Reinicializado el repositorio Git existente en /home/snark/Documentos/leraning-git/.git/\n",
      "\u001b[?2004h"
     ]
    },
    {
     "ename": "",
     "evalue": "1",
     "output_type": "error",
     "traceback": []
    }
   ],
   "source": [
    "git init ."
   ]
  },
  {
   "cell_type": "markdown",
   "id": "9fdc7a5b",
   "metadata": {},
   "source": [
    "con ls -a podemos ver que muestra un archivo .git"
   ]
  },
  {
   "cell_type": "code",
   "execution_count": 5,
   "id": "c113c406",
   "metadata": {},
   "outputs": [
    {
     "name": "stdout",
     "output_type": "stream",
     "text": [
      "total 20\n",
      "drwxr-xr-x  4 snark snark 4096 ago 10 09:40 \u001b[0m\u001b[01;34m.\u001b[0m\n",
      "drwxr-xr-x 20 snark snark 4096 ago 10 09:27 \u001b[01;34m..\u001b[0m\n",
      "drwxr-xr-x  7 snark snark 4096 ago 10 09:35 \u001b[01;34m.git\u001b[0m\n",
      "drwxr-xr-x  2 snark snark 4096 ago 10 09:34 \u001b[01;34m.ipynb_checkpoints\u001b[0m\n",
      "-rw-r--r--  1 snark snark 1616 ago 10 09:40 Learning-git.ipynb\n",
      "\u001b[?2004h"
     ]
    },
    {
     "ename": "",
     "evalue": "1",
     "output_type": "error",
     "traceback": []
    }
   ],
   "source": [
    "ls -la"
   ]
  },
  {
   "cell_type": "code",
   "execution_count": 6,
   "id": "1ebc48e1",
   "metadata": {},
   "outputs": [
    {
     "name": "stdout",
     "output_type": "stream",
     "text": [
      "Nada especificado, nada agregado.\n",
      "\u001b[33mayuda: ¿Tal vez quisiste decir 'git add.'?\u001b[m\n",
      "\u001b[33mayuda: Desactiva este mensage ejecutando\u001b[m\n",
      "\u001b[33mayuda: \"git config advice.addEmptyPathspec false\"\u001b[m\n",
      "\u001b[?2004h"
     ]
    },
    {
     "ename": "",
     "evalue": "1",
     "output_type": "error",
     "traceback": []
    }
   ],
   "source": [
    "git add "
   ]
  },
  {
   "cell_type": "code",
   "execution_count": 7,
   "id": "434a3eb0",
   "metadata": {},
   "outputs": [
    {
     "name": "stdout",
     "output_type": "stream",
     "text": [
      "\u001b[?2004l\r",
      "\u001b[?2004h"
     ]
    },
    {
     "ename": "",
     "evalue": "1",
     "output_type": "error",
     "traceback": []
    }
   ],
   "source": [
    "touch index.html"
   ]
  },
  {
   "cell_type": "code",
   "execution_count": 8,
   "id": "da7706dc",
   "metadata": {},
   "outputs": [
    {
     "name": "stdout",
     "output_type": "stream",
     "text": [
      "\u001b[?2004l\r",
      "\u001b[?2004h"
     ]
    },
    {
     "ename": "",
     "evalue": "1",
     "output_type": "error",
     "traceback": []
    }
   ],
   "source": [
    "touch main.css"
   ]
  },
  {
   "cell_type": "code",
   "execution_count": 9,
   "id": "5ab54b52",
   "metadata": {},
   "outputs": [
    {
     "name": "stdout",
     "output_type": "stream",
     "text": [
      "En la rama master\n",
      "\n",
      "No hay commits todavía\n",
      "\n",
      "Archivos sin seguimiento:\n",
      "  (usa \"git add <archivo>...\" para incluirlo a lo que se será confirmado)\n",
      "\t\u001b[31m.ipynb_checkpoints/\u001b[m\n",
      "\t\u001b[31mLearning-git.ipynb\u001b[m\n",
      "\t\u001b[31mindex.html\u001b[m\n",
      "\t\u001b[31mmain.css\u001b[m\n",
      "\n",
      "no hay nada agregado al commit pero hay archivos sin seguimiento presentes (usa \"git add\" para hacerles seguimiento)\n",
      "\u001b[?2004h"
     ]
    },
    {
     "ename": "",
     "evalue": "1",
     "output_type": "error",
     "traceback": []
    }
   ],
   "source": [
    "git status"
   ]
  },
  {
   "cell_type": "code",
   "execution_count": 14,
   "id": "600a5855",
   "metadata": {},
   "outputs": [
    {
     "name": "stdout",
     "output_type": "stream",
     "text": [
      "\u001b[?2004l\r",
      "\u001b[?2004h"
     ]
    },
    {
     "ename": "",
     "evalue": "1",
     "output_type": "error",
     "traceback": []
    }
   ],
   "source": [
    "git add index.html"
   ]
  },
  {
   "cell_type": "code",
   "execution_count": 15,
   "id": "637f9e70",
   "metadata": {},
   "outputs": [
    {
     "name": "stdout",
     "output_type": "stream",
     "text": [
      "En la rama master\n",
      "\n",
      "No hay commits todavía\n",
      "\n",
      "Cambios a ser confirmados:\n",
      "  (usa \"git rm --cached <archivo>...\" para sacar del área de stage)\n",
      "\t\u001b[32mnuevo archivo:  index.html\u001b[m\n",
      "\n",
      "Archivos sin seguimiento:\n",
      "  (usa \"git add <archivo>...\" para incluirlo a lo que se será confirmado)\n",
      "\t\u001b[31m.ipynb_checkpoints/\u001b[m\n",
      "\t\u001b[31mLearning-git.ipynb\u001b[m\n",
      "\t\u001b[31mmain.css\u001b[m\n",
      "\n",
      "\u001b[?2004h"
     ]
    },
    {
     "ename": "",
     "evalue": "1",
     "output_type": "error",
     "traceback": []
    }
   ],
   "source": [
    "git status"
   ]
  },
  {
   "cell_type": "code",
   "execution_count": 16,
   "id": "ba2d8ea1",
   "metadata": {},
   "outputs": [
    {
     "name": "stdout",
     "output_type": "stream",
     "text": [
      "rm 'index.html'\n",
      "\u001b[?2004h"
     ]
    },
    {
     "ename": "",
     "evalue": "1",
     "output_type": "error",
     "traceback": []
    }
   ],
   "source": [
    "git rm --cached index.html"
   ]
  },
  {
   "cell_type": "code",
   "execution_count": 17,
   "id": "3f0dfcba",
   "metadata": {},
   "outputs": [
    {
     "name": "stdout",
     "output_type": "stream",
     "text": [
      "En la rama master\n",
      "\n",
      "No hay commits todavía\n",
      "\n",
      "Archivos sin seguimiento:\n",
      "  (usa \"git add <archivo>...\" para incluirlo a lo que se será confirmado)\n",
      "\t\u001b[31m.ipynb_checkpoints/\u001b[m\n",
      "\t\u001b[31mLearning-git.ipynb\u001b[m\n",
      "\t\u001b[31mindex.html\u001b[m\n",
      "\t\u001b[31mmain.css\u001b[m\n",
      "\n",
      "no hay nada agregado al commit pero hay archivos sin seguimiento presentes (usa \"git add\" para hacerles seguimiento)\n",
      "\u001b[?2004h"
     ]
    },
    {
     "ename": "",
     "evalue": "1",
     "output_type": "error",
     "traceback": []
    }
   ],
   "source": [
    "git status"
   ]
  },
  {
   "cell_type": "code",
   "execution_count": 18,
   "id": "99d7bc06",
   "metadata": {},
   "outputs": [
    {
     "name": "stdout",
     "output_type": "stream",
     "text": [
      "\u001b[?2004l\r",
      "\u001b[?2004h"
     ]
    },
    {
     "ename": "",
     "evalue": "1",
     "output_type": "error",
     "traceback": []
    }
   ],
   "source": [
    "git add ."
   ]
  },
  {
   "cell_type": "code",
   "execution_count": 19,
   "id": "5fecd7bf",
   "metadata": {},
   "outputs": [
    {
     "name": "stdout",
     "output_type": "stream",
     "text": [
      "En la rama master\n",
      "\n",
      "No hay commits todavía\n",
      "\n",
      "Cambios a ser confirmados:\n",
      "  (usa \"git rm --cached <archivo>...\" para sacar del área de stage)\n",
      "\t\u001b[32mnuevo archivo:  .ipynb_checkpoints/Learning-git-checkpoint.ipynb\u001b[m\n",
      "\t\u001b[32mnuevo archivo:  Learning-git.ipynb\u001b[m\n",
      "\t\u001b[32mnuevo archivo:  index.html\u001b[m\n",
      "\t\u001b[32mnuevo archivo:  main.css\u001b[m\n",
      "\n",
      "\u001b[?2004h"
     ]
    },
    {
     "ename": "",
     "evalue": "1",
     "output_type": "error",
     "traceback": []
    }
   ],
   "source": [
    "git status"
   ]
  },
  {
   "cell_type": "code",
   "execution_count": 22,
   "id": "5533dd50",
   "metadata": {},
   "outputs": [
    {
     "name": "stdout",
     "output_type": "stream",
     "text": [
      "rm '.ipynb_checkpoints/Learning-git-checkpoint.ipynb'\n",
      "rm 'Learning-git.ipynb'\n",
      "rm 'index.html'\n",
      "rm 'main.css'\n",
      "\u001b[?2004h"
     ]
    },
    {
     "ename": "",
     "evalue": "1",
     "output_type": "error",
     "traceback": []
    }
   ],
   "source": [
    "git rm -r --cached ."
   ]
  },
  {
   "cell_type": "code",
   "execution_count": 23,
   "id": "c7e280ca",
   "metadata": {},
   "outputs": [
    {
     "name": "stdout",
     "output_type": "stream",
     "text": [
      "En la rama master\n",
      "\n",
      "No hay commits todavía\n",
      "\n",
      "Archivos sin seguimiento:\n",
      "  (usa \"git add <archivo>...\" para incluirlo a lo que se será confirmado)\n",
      "\t\u001b[31m.ipynb_checkpoints/\u001b[m\n",
      "\t\u001b[31mLearning-git.ipynb\u001b[m\n",
      "\t\u001b[31mindex.html\u001b[m\n",
      "\t\u001b[31mmain.css\u001b[m\n",
      "\n",
      "no hay nada agregado al commit pero hay archivos sin seguimiento presentes (usa \"git add\" para hacerles seguimiento)\n",
      "\u001b[?2004h"
     ]
    },
    {
     "ename": "",
     "evalue": "1",
     "output_type": "error",
     "traceback": []
    }
   ],
   "source": [
    "git status"
   ]
  },
  {
   "cell_type": "code",
   "execution_count": 31,
   "id": "50f5718a",
   "metadata": {},
   "outputs": [
    {
     "name": "stdout",
     "output_type": "stream",
     "text": [
      "\u001b[?2004l\r",
      "\u001b[?2004h"
     ]
    },
    {
     "ename": "",
     "evalue": "1",
     "output_type": "error",
     "traceback": []
    }
   ],
   "source": [
    "mkdir login-register"
   ]
  },
  {
   "cell_type": "code",
   "execution_count": 32,
   "id": "8fdfdc5b",
   "metadata": {},
   "outputs": [
    {
     "name": "stdout",
     "output_type": "stream",
     "text": [
      "\u001b[?2004l\r",
      "\u001b[?2004h"
     ]
    },
    {
     "ename": "",
     "evalue": "1",
     "output_type": "error",
     "traceback": []
    }
   ],
   "source": [
    "cd login-register"
   ]
  },
  {
   "cell_type": "code",
   "execution_count": 33,
   "id": "fa500286",
   "metadata": {},
   "outputs": [
    {
     "name": "stdout",
     "output_type": "stream",
     "text": [
      "total 8l\n",
      "drwxr-xr-x 2 snark snark 4096 ago 10 10:09 \u001b[0m\u001b[01;34m.\u001b[0m\n",
      "drwxr-xr-x 5 snark snark 4096 ago 10 10:09 \u001b[01;34m..\u001b[0m\n",
      "\u001b[?2004h"
     ]
    },
    {
     "ename": "",
     "evalue": "1",
     "output_type": "error",
     "traceback": []
    }
   ],
   "source": [
    "ls -la"
   ]
  },
  {
   "cell_type": "code",
   "execution_count": 34,
   "id": "adc8e6a1",
   "metadata": {},
   "outputs": [
    {
     "name": "stdout",
     "output_type": "stream",
     "text": [
      "\u001b[?2004l\r",
      "\u001b[?2004h"
     ]
    },
    {
     "ename": "",
     "evalue": "1",
     "output_type": "error",
     "traceback": []
    }
   ],
   "source": [
    "touch index.html"
   ]
  },
  {
   "cell_type": "code",
   "execution_count": null,
   "id": "2f180179",
   "metadata": {
    "collapsed": true
   },
   "outputs": [],
   "source": [
    "touch main"
   ]
  }
 ],
 "metadata": {
  "kernelspec": {
   "display_name": "Bash",
   "language": "bash",
   "name": "bash"
  },
  "language_info": {
   "codemirror_mode": "shell",
   "file_extension": ".sh",
   "mimetype": "text/x-sh",
   "name": "bash"
  }
 },
 "nbformat": 4,
 "nbformat_minor": 5
}
